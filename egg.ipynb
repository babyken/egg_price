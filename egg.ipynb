{
 "cells": [
  {
   "cell_type": "markdown",
   "metadata": {},
   "source": [
    "# Prepare selenium webdriver"
   ]
  },
  {
   "cell_type": "code",
   "execution_count": 1,
   "metadata": {},
   "outputs": [],
   "source": [
    "from selenium.webdriver.common.by import By\n",
    "from selenium import webdriver\n",
    "\n",
    "def get_driver(is_headless=False):\n",
    "    user_agent = \"Mozilla/5.0 (Windows NT 10.0; Win64; x64) AppleWebKit/537.36 (KHTML, like Gecko) Chrome/92.0.4515.159 Safari/537.36\"\n",
    "    chrome_options = webdriver.ChromeOptions()\n",
    "    if is_headless:\n",
    "        chrome_options.add_argument('--headless')\n",
    "    chrome_options.add_argument('--no-sandbox')\n",
    "    chrome_options.add_argument('--disable-dev-shm-usage')\n",
    "    chrome_options.add_argument(f\"--user-agent={user_agent}\")\n",
    "    driver = webdriver.Chrome(options=chrome_options)\n",
    "    driver.implicitly_wait(5)\n",
    "    return driver"
   ]
  },
  {
   "cell_type": "code",
   "execution_count": 2,
   "metadata": {},
   "outputs": [],
   "source": [
    "# init variables\n",
    "driver = get_driver()\n",
    "egg_list = []"
   ]
  },
  {
   "cell_type": "markdown",
   "metadata": {},
   "source": [
    "# Start web scrap the egg items of No Frills"
   ]
  },
  {
   "cell_type": "code",
   "execution_count": 3,
   "metadata": {},
   "outputs": [],
   "source": [
    "# No Frills\n",
    "url = 'https://www.nofrills.ca/search?search-bar=egg'\n",
    "driver.get(url)"
   ]
  },
  {
   "cell_type": "code",
   "execution_count": 4,
   "metadata": {},
   "outputs": [],
   "source": [
    "result_grid = driver.find_element(By.CSS_SELECTOR, 'ul.product-tile-group__list')\n",
    "items = result_grid.find_elements(By.CSS_SELECTOR, 'li.product-tile-group__list__item')\n",
    "\n",
    "# store items details of No Frills in egg_list\n",
    "for item in items:\n",
    "    brand = item.find_element(By.CSS_SELECTOR, '.product-name__item--brand').text\n",
    "    title = item.find_element(By.CSS_SELECTOR, '.product-name__item--name').text\n",
    "    price = item.find_element(By.CSS_SELECTOR, '.selling-price-list__item .price__value').text\n",
    "    unit_price = item.find_element(By.CSS_SELECTOR, '.comparison-price-list__item .price__value').text\n",
    "    unit = item.find_element(By.CSS_SELECTOR, '.comparison-price-list__item .price__unit').text\n",
    "    if 'ea' in unit:\n",
    "        egg_list.append({\n",
    "            'brand': brand,\n",
    "            'title': title,\n",
    "            'price': price,\n",
    "            'unit_price': unit_price,\n",
    "            'unit': unit,\n",
    "            'merchant': 'No Frills'\n",
    "        })"
   ]
  },
  {
   "cell_type": "markdown",
   "metadata": {},
   "source": [
    "# Start web scrap the egg items of Food Basic"
   ]
  },
  {
   "cell_type": "code",
   "execution_count": 5,
   "metadata": {},
   "outputs": [],
   "source": [
    "# function for breaking down item details of food basic\n",
    "def get_item_details(item):\n",
    "    brand = item.find_element(By.CSS_SELECTOR, '.head__brand').text\n",
    "    title = item.find_element(By.CSS_SELECTOR, '.head__title').text\n",
    "    price = item.find_element(By.CSS_SELECTOR, '.content__pricing > div').get_attribute('data-main-price')    \n",
    "    unit_price = item.find_element(By.CSS_SELECTOR, '.pricing__secondary-price > span').text\n",
    "    unit = item.find_element(By.CSS_SELECTOR, '.pricing__secondary-price abbr').text\n",
    "\n",
    "    if 'un.' in unit:      \n",
    "        return {\n",
    "            'brand': brand,\n",
    "            'title': title,\n",
    "            'price': price,\n",
    "            'unit_price': unit_price,\n",
    "            'unit': unit,\n",
    "            'merchant': 'Food Basic'\n",
    "        }\n",
    "    \n",
    "    return None"
   ]
  },
  {
   "cell_type": "code",
   "execution_count": 6,
   "metadata": {},
   "outputs": [],
   "source": [
    "# food basic\n",
    "url = 'https://www.foodbasics.ca/search?sortOrder=relevance&filter=egg%3Arelevance%3Acategory%3A000008'\n",
    "driver.get(url)\n",
    "\n",
    "result_grid = driver.find_element(By.CSS_SELECTOR, '.products-search--grid.searchOnlineResults')\n",
    "items = result_grid.find_elements(By.CSS_SELECTOR, '.default-product-tile.tile-product')\n",
    "\n",
    "for item in items:\n",
    "    egg = get_item_details(item)\n",
    "    if egg:\n",
    "        egg_list.append(egg)\n",
    "\n",
    "# Go to page 2\n",
    "url = driver.find_element(By.XPATH, '//*[@id=\"content-temp\"]/div/div[4]/div[4]/div/div/a[3]').get_attribute('href')\n",
    "driver.get(url)\n",
    "\n",
    "result_grid = driver.find_element(By.CSS_SELECTOR, '.products-search--grid.searchOnlineResults')\n",
    "items = result_grid.find_elements(By.CSS_SELECTOR, '.default-product-tile.tile-product')\n",
    "\n",
    "for item in items:\n",
    "    egg = get_item_details(item)\n",
    "    if egg:\n",
    "        egg_list.append(egg)        "
   ]
  },
  {
   "cell_type": "code",
   "execution_count": 7,
   "metadata": {},
   "outputs": [],
   "source": [
    "# Close the browser to release resources\n",
    "driver.quit()"
   ]
  },
  {
   "cell_type": "markdown",
   "metadata": {},
   "source": [
    "# Load the egg items from website to pandas dataframe"
   ]
  },
  {
   "cell_type": "code",
   "execution_count": 8,
   "metadata": {},
   "outputs": [
    {
     "data": {
      "text/html": [
       "<div>\n",
       "<style scoped>\n",
       "    .dataframe tbody tr th:only-of-type {\n",
       "        vertical-align: middle;\n",
       "    }\n",
       "\n",
       "    .dataframe tbody tr th {\n",
       "        vertical-align: top;\n",
       "    }\n",
       "\n",
       "    .dataframe thead th {\n",
       "        text-align: right;\n",
       "    }\n",
       "</style>\n",
       "<table border=\"1\" class=\"dataframe\">\n",
       "  <thead>\n",
       "    <tr style=\"text-align: right;\">\n",
       "      <th></th>\n",
       "      <th>brand</th>\n",
       "      <th>title</th>\n",
       "      <th>price</th>\n",
       "      <th>unit_price</th>\n",
       "      <th>unit</th>\n",
       "      <th>merchant</th>\n",
       "    </tr>\n",
       "  </thead>\n",
       "  <tbody>\n",
       "    <tr>\n",
       "      <th>0</th>\n",
       "      <td>No Name</td>\n",
       "      <td>Large Grade A Eggs</td>\n",
       "      <td>$3.79</td>\n",
       "      <td>$0.32</td>\n",
       "      <td>/ 1ea</td>\n",
       "      <td>No Frills</td>\n",
       "    </tr>\n",
       "    <tr>\n",
       "      <th>1</th>\n",
       "      <td>No Name</td>\n",
       "      <td>Large Size Eggs</td>\n",
       "      <td>$9.29</td>\n",
       "      <td>$0.31</td>\n",
       "      <td>/ 1ea</td>\n",
       "      <td>No Frills</td>\n",
       "    </tr>\n",
       "    <tr>\n",
       "      <th>2</th>\n",
       "      <td>President's Choice</td>\n",
       "      <td>Free Run Brown Eggs Large</td>\n",
       "      <td>$6.99</td>\n",
       "      <td>$0.58</td>\n",
       "      <td>/ 1ea</td>\n",
       "      <td>No Frills</td>\n",
       "    </tr>\n",
       "    <tr>\n",
       "      <th>3</th>\n",
       "      <td>Burnbrae Farms</td>\n",
       "      <td>Grade A Large Eggs</td>\n",
       "      <td>$6.69</td>\n",
       "      <td>$0.37</td>\n",
       "      <td>/ 1ea</td>\n",
       "      <td>No Frills</td>\n",
       "    </tr>\n",
       "    <tr>\n",
       "      <th>4</th>\n",
       "      <td>No Name</td>\n",
       "      <td>Grade A Extra Large Eggs</td>\n",
       "      <td>$4.49</td>\n",
       "      <td>$0.37</td>\n",
       "      <td>/ 1ea</td>\n",
       "      <td>No Frills</td>\n",
       "    </tr>\n",
       "  </tbody>\n",
       "</table>\n",
       "</div>"
      ],
      "text/plain": [
       "                brand                      title  price unit_price   unit  \\\n",
       "0             No Name         Large Grade A Eggs  $3.79      $0.32  / 1ea   \n",
       "1             No Name            Large Size Eggs  $9.29      $0.31  / 1ea   \n",
       "2  President's Choice  Free Run Brown Eggs Large  $6.99      $0.58  / 1ea   \n",
       "3      Burnbrae Farms         Grade A Large Eggs  $6.69      $0.37  / 1ea   \n",
       "4             No Name   Grade A Extra Large Eggs  $4.49      $0.37  / 1ea   \n",
       "\n",
       "    merchant  \n",
       "0  No Frills  \n",
       "1  No Frills  \n",
       "2  No Frills  \n",
       "3  No Frills  \n",
       "4  No Frills  "
      ]
     },
     "execution_count": 8,
     "metadata": {},
     "output_type": "execute_result"
    }
   ],
   "source": [
    "import pandas as pd\n",
    "import re\n",
    "\n",
    "# Load to pandas\n",
    "df = pd.DataFrame.from_records(egg_list)\n",
    "# Check the loaded items\n",
    "df.head()"
   ]
  },
  {
   "cell_type": "code",
   "execution_count": 9,
   "metadata": {},
   "outputs": [
    {
     "data": {
      "text/html": [
       "<div>\n",
       "<style scoped>\n",
       "    .dataframe tbody tr th:only-of-type {\n",
       "        vertical-align: middle;\n",
       "    }\n",
       "\n",
       "    .dataframe tbody tr th {\n",
       "        vertical-align: top;\n",
       "    }\n",
       "\n",
       "    .dataframe thead th {\n",
       "        text-align: right;\n",
       "    }\n",
       "</style>\n",
       "<table border=\"1\" class=\"dataframe\">\n",
       "  <thead>\n",
       "    <tr style=\"text-align: right;\">\n",
       "      <th></th>\n",
       "      <th>brand</th>\n",
       "      <th>title</th>\n",
       "      <th>price</th>\n",
       "      <th>unit_price</th>\n",
       "      <th>unit</th>\n",
       "      <th>merchant</th>\n",
       "    </tr>\n",
       "  </thead>\n",
       "  <tbody>\n",
       "    <tr>\n",
       "      <th>1</th>\n",
       "      <td>No Name</td>\n",
       "      <td>Large Grade A Eggs</td>\n",
       "      <td>3.79</td>\n",
       "      <td>0.32</td>\n",
       "      <td>ea</td>\n",
       "      <td>No Frills</td>\n",
       "    </tr>\n",
       "    <tr>\n",
       "      <th>2</th>\n",
       "      <td>No Name</td>\n",
       "      <td>Large Size Eggs</td>\n",
       "      <td>9.29</td>\n",
       "      <td>0.31</td>\n",
       "      <td>ea</td>\n",
       "      <td>No Frills</td>\n",
       "    </tr>\n",
       "    <tr>\n",
       "      <th>3</th>\n",
       "      <td>President's Choice</td>\n",
       "      <td>Free Run Brown Eggs Large</td>\n",
       "      <td>6.99</td>\n",
       "      <td>0.58</td>\n",
       "      <td>ea</td>\n",
       "      <td>No Frills</td>\n",
       "    </tr>\n",
       "    <tr>\n",
       "      <th>4</th>\n",
       "      <td>Burnbrae Farms</td>\n",
       "      <td>Grade A Large Eggs</td>\n",
       "      <td>6.69</td>\n",
       "      <td>0.37</td>\n",
       "      <td>ea</td>\n",
       "      <td>No Frills</td>\n",
       "    </tr>\n",
       "    <tr>\n",
       "      <th>5</th>\n",
       "      <td>No Name</td>\n",
       "      <td>Grade A Extra Large Eggs</td>\n",
       "      <td>4.49</td>\n",
       "      <td>0.37</td>\n",
       "      <td>ea</td>\n",
       "      <td>No Frills</td>\n",
       "    </tr>\n",
       "  </tbody>\n",
       "</table>\n",
       "</div>"
      ],
      "text/plain": [
       "                brand                      title  price  unit_price unit  \\\n",
       "1             No Name         Large Grade A Eggs   3.79        0.32   ea   \n",
       "2             No Name            Large Size Eggs   9.29        0.31   ea   \n",
       "3  President's Choice  Free Run Brown Eggs Large   6.99        0.58   ea   \n",
       "4      Burnbrae Farms         Grade A Large Eggs   6.69        0.37   ea   \n",
       "5             No Name   Grade A Extra Large Eggs   4.49        0.37   ea   \n",
       "\n",
       "    merchant  \n",
       "1  No Frills  \n",
       "2  No Frills  \n",
       "3  No Frills  \n",
       "4  No Frills  \n",
       "5  No Frills  "
      ]
     },
     "execution_count": 9,
     "metadata": {},
     "output_type": "execute_result"
    }
   ],
   "source": [
    "df.index = df.index + 1\n",
    "df.unit = 'ea'\n",
    "\n",
    "# remove $ or any other characters from price\n",
    "def get_price(x):\n",
    "    try:\n",
    "        reg_result = re.search(r'\\$(\\d+\\.\\d+)', x)\n",
    "        if reg_result:\n",
    "            return reg_result.group(1)\n",
    "        else:\n",
    "            return x\n",
    "    except:\n",
    "        return x\n",
    "    \n",
    "# standardize price and unit price to float\n",
    "df.price = df.price.apply(lambda x: get_price(x)).astype(float)\n",
    "df.unit_price = df.unit_price.apply(lambda x: get_price(x)).astype(float)\n",
    "\n",
    "# filter unit price that's > 1. In general each egg is less than $1\n",
    "df = df[df.unit_price < 1]\n",
    "\n",
    "# Save to csv for backup use\n",
    "df.to_csv('egg.csv', index=False)\n",
    "\n",
    "# Check the records\n",
    "df.head()\n"
   ]
  },
  {
   "cell_type": "code",
   "execution_count": 10,
   "metadata": {},
   "outputs": [
    {
     "name": "stdout",
     "output_type": "stream",
     "text": [
      "(44, 6)\n"
     ]
    },
    {
     "data": {
      "text/plain": [
       "count    44.000000\n",
       "mean      0.500227\n",
       "std       0.125225\n",
       "min       0.300000\n",
       "25%       0.385000\n",
       "50%       0.520000\n",
       "75%       0.587500\n",
       "max       0.670000\n",
       "Name: unit_price, dtype: float64"
      ]
     },
     "execution_count": 10,
     "metadata": {},
     "output_type": "execute_result"
    }
   ],
   "source": [
    "# Describe the unit price\n",
    "print(df.shape)\n",
    "df['unit_price'].describe()"
   ]
  },
  {
   "cell_type": "markdown",
   "metadata": {},
   "source": [
    "# Visualize the unit price of both merchants"
   ]
  },
  {
   "cell_type": "code",
   "execution_count": 11,
   "metadata": {},
   "outputs": [
    {
     "data": {
      "image/png": "[encoded data removed]",
      "text/plain": [
       "<Figure size 600x400 with 1 Axes>"
      ]
     },
     "metadata": {},
     "output_type": "display_data"
    }
   ],
   "source": [
    "import matplotlib.pyplot as plt\n",
    "\n",
    "no_frills_egg_unit_price = df[df.merchant == 'No Frills'].unit_price\n",
    "food_basic_egg_unit_price = df[df.merchant == 'Food Basic'].unit_price\n",
    "\n",
    "data = [no_frills_egg_unit_price, food_basic_egg_unit_price] \n",
    "fig = plt.figure(figsize =(6, 4))\n",
    "ax = fig.add_axes([0, 0, 1, 1])\n",
    "bp = ax.boxplot(data)\n",
    "\n",
    "plt.title(\"Box plot of egg unit price\")\n",
    "plt.xlabel(\"Merchant\")\n",
    "plt.ylabel(\"Unit Price\")\n",
    "plt.xticks([1, 2], ['No Frills', 'Food Basic'])\n",
    "plt.show()"
   ]
  },
  {
   "cell_type": "markdown",
   "metadata": {},
   "source": [
    "# Analysis of the unit price between two merchants"
   ]
  },
  {
   "cell_type": "code",
   "execution_count": 12,
   "metadata": {},
   "outputs": [
    {
     "name": "stdout",
     "output_type": "stream",
     "text": [
      "t-value: 1.3349172503654678 p-value: 0.18909470718905788\n",
      "The unit price of egg has no significant difference between No Frills and Food Basic\n"
     ]
    }
   ],
   "source": [
    "# Find is the price of egg is significantly different between different merchants\n",
    "from scipy import stats\n",
    "\n",
    "t_stat, p_val = stats.ttest_ind(no_frills_egg_unit_price, food_basic_egg_unit_price)\n",
    "print('t-value:', t_stat, 'p-value:', p_val)\n",
    "\n",
    "if p_val < 0.05:\n",
    "    print('The unit price of egg has significant difference between No Frills and Food Basic')\n",
    "else:\n",
    "    print('The unit price of egg has no significant difference between No Frills and Food Basic')\n"
   ]
  }
 ],
 "metadata": {
  "kernelspec": {
   "display_name": "base",
   "language": "python",
   "name": "python3"
  },
  "language_info": {
   "codemirror_mode": {
    "name": "ipython",
    "version": 3
   },
   "file_extension": ".py",
   "mimetype": "text/x-python",
   "name": "python",
   "nbconvert_exporter": "python",
   "pygments_lexer": "ipython3",
   "version": "3.9.18"
  }
 },
 "nbformat": 4,
 "nbformat_minor": 2
}
